{
 "cells": [
  {
   "cell_type": "markdown",
   "id": "65cded3f",
   "metadata": {},
   "source": [
    "# Sentimment Analysis of Cryptocurrencies"
   ]
  },
  {
   "cell_type": "markdown",
   "id": "e3d802fb",
   "metadata": {},
   "source": [
    "#### This notebook is the first part of the Development of the sentiment analysis solution that analyses twitter comments on cryptocurrencies for market research"
   ]
  },
  {
   "cell_type": "markdown",
   "id": "97865ff2",
   "metadata": {},
   "source": [
    "For this intial stage the primary focus is exploring and evaluating the posssible models for sentiment anlaysis \n"
   ]
  },
  {
   "cell_type": "markdown",
   "id": "5f7ce597",
   "metadata": {},
   "source": [
    "Data used in this project is from DataWorld link for the data below \n",
    "\n",
    "https://data.world/mercal/btc-tweets-sentiment"
   ]
  },
  {
   "cell_type": "code",
   "execution_count": 1,
   "id": "ee459c46",
   "metadata": {},
   "outputs": [],
   "source": [
    "import pandas as pd \n",
    "import numpy as np"
   ]
  },
  {
   "cell_type": "code",
   "execution_count": 2,
   "id": "f572618e",
   "metadata": {},
   "outputs": [],
   "source": [
    "# loading the dataset\n",
    "sentiBitcoin = pd.read_csv(\"BTC_tweets_daily_example.csv\")\n"
   ]
  },
  {
   "cell_type": "markdown",
   "id": "36bb397b",
   "metadata": {},
   "source": [
    "2. Data preprocessing and EDA "
   ]
  },
  {
   "cell_type": "code",
   "execution_count": 3,
   "id": "31eb3f45",
   "metadata": {},
   "outputs": [
    {
     "data": {
      "text/plain": [
       "(50887, 7)"
      ]
     },
     "execution_count": 3,
     "metadata": {},
     "output_type": "execute_result"
    }
   ],
   "source": [
    "sentiBitcoin.shape"
   ]
  },
  {
   "cell_type": "code",
   "execution_count": 4,
   "id": "c20637f5",
   "metadata": {},
   "outputs": [
    {
     "data": {
      "text/plain": [
       "column_#       object\n",
       "Date           object\n",
       "Tweet          object\n",
       "Screen_name    object\n",
       "Source         object\n",
       "Link           object\n",
       "Sentiment      object\n",
       "dtype: object"
      ]
     },
     "execution_count": 4,
     "metadata": {},
     "output_type": "execute_result"
    }
   ],
   "source": [
    "sentiBitcoin.dtypes"
   ]
  },
  {
   "cell_type": "code",
   "execution_count": 5,
   "id": "96b20190",
   "metadata": {},
   "outputs": [
    {
     "data": {
      "text/html": [
       "<div>\n",
       "<style scoped>\n",
       "    .dataframe tbody tr th:only-of-type {\n",
       "        vertical-align: middle;\n",
       "    }\n",
       "\n",
       "    .dataframe tbody tr th {\n",
       "        vertical-align: top;\n",
       "    }\n",
       "\n",
       "    .dataframe thead th {\n",
       "        text-align: right;\n",
       "    }\n",
       "</style>\n",
       "<table border=\"1\" class=\"dataframe\">\n",
       "  <thead>\n",
       "    <tr style=\"text-align: right;\">\n",
       "      <th></th>\n",
       "      <th>column_#</th>\n",
       "      <th>Date</th>\n",
       "      <th>Tweet</th>\n",
       "      <th>Screen_name</th>\n",
       "      <th>Source</th>\n",
       "      <th>Link</th>\n",
       "      <th>Sentiment</th>\n",
       "    </tr>\n",
       "  </thead>\n",
       "  <tbody>\n",
       "    <tr>\n",
       "      <th>count</th>\n",
       "      <td>50873</td>\n",
       "      <td>50866</td>\n",
       "      <td>50866</td>\n",
       "      <td>50859</td>\n",
       "      <td>50859</td>\n",
       "      <td>50859</td>\n",
       "      <td>50859</td>\n",
       "    </tr>\n",
       "    <tr>\n",
       "      <th>unique</th>\n",
       "      <td>50861</td>\n",
       "      <td>23972</td>\n",
       "      <td>28137</td>\n",
       "      <td>21313</td>\n",
       "      <td>4855</td>\n",
       "      <td>1224</td>\n",
       "      <td>4</td>\n",
       "    </tr>\n",
       "    <tr>\n",
       "      <th>top</th>\n",
       "      <td>#Blockchain #XCM #cryptorevolution #bitcoin #t...</td>\n",
       "      <td>Fri Mar 23 07:01:42 +0000 2018</td>\n",
       "      <td>RT @GymRewards: https://t.co/Bm9sIxiiwU  Check...</td>\n",
       "      <td>moneyblockchain</td>\n",
       "      <td>[]</td>\n",
       "      <td>&lt;a href=\"http://twitter.com\" rel=\"nofollow\"&gt;Tw...</td>\n",
       "      <td>['positive']</td>\n",
       "    </tr>\n",
       "    <tr>\n",
       "      <th>freq</th>\n",
       "      <td>7</td>\n",
       "      <td>20</td>\n",
       "      <td>672</td>\n",
       "      <td>854</td>\n",
       "      <td>25033</td>\n",
       "      <td>18032</td>\n",
       "      <td>22937</td>\n",
       "    </tr>\n",
       "  </tbody>\n",
       "</table>\n",
       "</div>"
      ],
      "text/plain": [
       "                                                 column_#  \\\n",
       "count                                               50873   \n",
       "unique                                              50861   \n",
       "top     #Blockchain #XCM #cryptorevolution #bitcoin #t...   \n",
       "freq                                                    7   \n",
       "\n",
       "                                  Date  \\\n",
       "count                            50866   \n",
       "unique                           23972   \n",
       "top     Fri Mar 23 07:01:42 +0000 2018   \n",
       "freq                                20   \n",
       "\n",
       "                                                    Tweet      Screen_name  \\\n",
       "count                                               50866            50859   \n",
       "unique                                              28137            21313   \n",
       "top     RT @GymRewards: https://t.co/Bm9sIxiiwU  Check...  moneyblockchain   \n",
       "freq                                                  672              854   \n",
       "\n",
       "       Source                                               Link     Sentiment  \n",
       "count   50859                                              50859         50859  \n",
       "unique   4855                                               1224             4  \n",
       "top        []  <a href=\"http://twitter.com\" rel=\"nofollow\">Tw...  ['positive']  \n",
       "freq    25033                                              18032         22937  "
      ]
     },
     "execution_count": 5,
     "metadata": {},
     "output_type": "execute_result"
    }
   ],
   "source": [
    "sentiBitcoin.describe()"
   ]
  },
  {
   "cell_type": "code",
   "execution_count": 6,
   "id": "2f72215c",
   "metadata": {},
   "outputs": [
    {
     "data": {
      "text/html": [
       "<div>\n",
       "<style scoped>\n",
       "    .dataframe tbody tr th:only-of-type {\n",
       "        vertical-align: middle;\n",
       "    }\n",
       "\n",
       "    .dataframe tbody tr th {\n",
       "        vertical-align: top;\n",
       "    }\n",
       "\n",
       "    .dataframe thead th {\n",
       "        text-align: right;\n",
       "    }\n",
       "</style>\n",
       "<table border=\"1\" class=\"dataframe\">\n",
       "  <thead>\n",
       "    <tr style=\"text-align: right;\">\n",
       "      <th></th>\n",
       "      <th>column_#</th>\n",
       "      <th>Date</th>\n",
       "      <th>Tweet</th>\n",
       "      <th>Screen_name</th>\n",
       "      <th>Source</th>\n",
       "      <th>Link</th>\n",
       "      <th>Sentiment</th>\n",
       "    </tr>\n",
       "  </thead>\n",
       "  <tbody>\n",
       "    <tr>\n",
       "      <th>0</th>\n",
       "      <td>0</td>\n",
       "      <td>Fri Mar 23 00:40:32 +0000 2018</td>\n",
       "      <td>RT @ALXTOKEN: Paul Krugman, Nobel Luddite. I h...</td>\n",
       "      <td>myresumerocket</td>\n",
       "      <td>[]</td>\n",
       "      <td>&lt;a href=\"http://twitter.com\" rel=\"nofollow\"&gt;Tw...</td>\n",
       "      <td>['neutral']</td>\n",
       "    </tr>\n",
       "    <tr>\n",
       "      <th>1</th>\n",
       "      <td>1</td>\n",
       "      <td>Fri Mar 23 00:40:34 +0000 2018</td>\n",
       "      <td>@lopp @_Kevin_Pham @psycho_sage @naval But @Pr...</td>\n",
       "      <td>BitMocro</td>\n",
       "      <td>[u'Bitcoin']</td>\n",
       "      <td>&lt;a href=\"http://twitter.com/download/android\" ...</td>\n",
       "      <td>['neutral']</td>\n",
       "    </tr>\n",
       "    <tr>\n",
       "      <th>2</th>\n",
       "      <td>2</td>\n",
       "      <td>Fri Mar 23 00:40:35 +0000 2018</td>\n",
       "      <td>RT @tippereconomy: Another use case for #block...</td>\n",
       "      <td>hojachotopur</td>\n",
       "      <td>[u'blockchain', u'Tipper', u'TipperEconomy']</td>\n",
       "      <td>&lt;a href=\"http://twitter.com\" rel=\"nofollow\"&gt;Tw...</td>\n",
       "      <td>['positive']</td>\n",
       "    </tr>\n",
       "    <tr>\n",
       "      <th>3</th>\n",
       "      <td>3</td>\n",
       "      <td>Fri Mar 23 00:40:36 +0000 2018</td>\n",
       "      <td>free coins https://t.co/DiuoePJdap</td>\n",
       "      <td>denies_distro</td>\n",
       "      <td>[]</td>\n",
       "      <td>&lt;a href=\"http://twitter.com\" rel=\"nofollow\"&gt;Tw...</td>\n",
       "      <td>['positive']</td>\n",
       "    </tr>\n",
       "    <tr>\n",
       "      <th>4</th>\n",
       "      <td>4</td>\n",
       "      <td>Fri Mar 23 00:40:36 +0000 2018</td>\n",
       "      <td>RT @payvxofficial: WE are happy to announce th...</td>\n",
       "      <td>aditzgraha</td>\n",
       "      <td>[]</td>\n",
       "      <td>&lt;a href=\"http://twitter.com/download/android\" ...</td>\n",
       "      <td>['positive']</td>\n",
       "    </tr>\n",
       "    <tr>\n",
       "      <th>5</th>\n",
       "      <td>5</td>\n",
       "      <td>Fri Mar 23 00:40:36 +0000 2018</td>\n",
       "      <td>Copy successful traders automatically with Bit...</td>\n",
       "      <td>VictorS61164810</td>\n",
       "      <td>[]</td>\n",
       "      <td>&lt;a href=\"http://twitter.com\" rel=\"nofollow\"&gt;Tw...</td>\n",
       "      <td>['positive']</td>\n",
       "    </tr>\n",
       "    <tr>\n",
       "      <th>6</th>\n",
       "      <td>6</td>\n",
       "      <td>Fri Mar 23 00:40:37 +0000 2018</td>\n",
       "      <td>RT @bethereumteam: We're revealing our surpris...</td>\n",
       "      <td>ClarkKalel4</td>\n",
       "      <td>[u'surprise', u'presents', u'crypto', u'bitcoin']</td>\n",
       "      <td>&lt;a href=\"http://twitter.com/download/android\" ...</td>\n",
       "      <td>['positive']</td>\n",
       "    </tr>\n",
       "    <tr>\n",
       "      <th>7</th>\n",
       "      <td>7</td>\n",
       "      <td>Fri Mar 23 00:40:37 +0000 2018</td>\n",
       "      <td>One click to start mining cryptocurrencies tog...</td>\n",
       "      <td>cloud_speaker</td>\n",
       "      <td>[u'bitcoin', u'PaaS', u'cloudnetwork']</td>\n",
       "      <td>&lt;a href=\"http://itunes.apple.com/us/app/twitte...</td>\n",
       "      <td>['neutral']</td>\n",
       "    </tr>\n",
       "    <tr>\n",
       "      <th>8</th>\n",
       "      <td>8</td>\n",
       "      <td>Fri Mar 23 00:40:38 +0000 2018</td>\n",
       "      <td>first speaker @digitsu\\n\\n\"how we can get bitc...</td>\n",
       "      <td>MADinMelbourne</td>\n",
       "      <td>[]</td>\n",
       "      <td>&lt;a href=\"http://twitter.com\" rel=\"nofollow\"&gt;Tw...</td>\n",
       "      <td>['positive']</td>\n",
       "    </tr>\n",
       "    <tr>\n",
       "      <th>9</th>\n",
       "      <td>9</td>\n",
       "      <td>Fri Mar 23 00:40:40 +0000 2018</td>\n",
       "      <td>@p0nd3ea Bitcoin wasn't built to live on excha...</td>\n",
       "      <td>APompliano</td>\n",
       "      <td>[]</td>\n",
       "      <td>&lt;a href=\"http://twitter.com\" rel=\"nofollow\"&gt;Tw...</td>\n",
       "      <td>['positive']</td>\n",
       "    </tr>\n",
       "  </tbody>\n",
       "</table>\n",
       "</div>"
      ],
      "text/plain": [
       "  column_#                            Date  \\\n",
       "0        0  Fri Mar 23 00:40:32 +0000 2018   \n",
       "1        1  Fri Mar 23 00:40:34 +0000 2018   \n",
       "2        2  Fri Mar 23 00:40:35 +0000 2018   \n",
       "3        3  Fri Mar 23 00:40:36 +0000 2018   \n",
       "4        4  Fri Mar 23 00:40:36 +0000 2018   \n",
       "5        5  Fri Mar 23 00:40:36 +0000 2018   \n",
       "6        6  Fri Mar 23 00:40:37 +0000 2018   \n",
       "7        7  Fri Mar 23 00:40:37 +0000 2018   \n",
       "8        8  Fri Mar 23 00:40:38 +0000 2018   \n",
       "9        9  Fri Mar 23 00:40:40 +0000 2018   \n",
       "\n",
       "                                               Tweet      Screen_name  \\\n",
       "0  RT @ALXTOKEN: Paul Krugman, Nobel Luddite. I h...   myresumerocket   \n",
       "1  @lopp @_Kevin_Pham @psycho_sage @naval But @Pr...         BitMocro   \n",
       "2  RT @tippereconomy: Another use case for #block...     hojachotopur   \n",
       "3                 free coins https://t.co/DiuoePJdap    denies_distro   \n",
       "4  RT @payvxofficial: WE are happy to announce th...       aditzgraha   \n",
       "5  Copy successful traders automatically with Bit...  VictorS61164810   \n",
       "6  RT @bethereumteam: We're revealing our surpris...      ClarkKalel4   \n",
       "7  One click to start mining cryptocurrencies tog...    cloud_speaker   \n",
       "8  first speaker @digitsu\\n\\n\"how we can get bitc...   MADinMelbourne   \n",
       "9  @p0nd3ea Bitcoin wasn't built to live on excha...       APompliano   \n",
       "\n",
       "                                              Source  \\\n",
       "0                                                 []   \n",
       "1                                       [u'Bitcoin']   \n",
       "2       [u'blockchain', u'Tipper', u'TipperEconomy']   \n",
       "3                                                 []   \n",
       "4                                                 []   \n",
       "5                                                 []   \n",
       "6  [u'surprise', u'presents', u'crypto', u'bitcoin']   \n",
       "7             [u'bitcoin', u'PaaS', u'cloudnetwork']   \n",
       "8                                                 []   \n",
       "9                                                 []   \n",
       "\n",
       "                                                Link     Sentiment  \n",
       "0  <a href=\"http://twitter.com\" rel=\"nofollow\">Tw...   ['neutral']  \n",
       "1  <a href=\"http://twitter.com/download/android\" ...   ['neutral']  \n",
       "2  <a href=\"http://twitter.com\" rel=\"nofollow\">Tw...  ['positive']  \n",
       "3  <a href=\"http://twitter.com\" rel=\"nofollow\">Tw...  ['positive']  \n",
       "4  <a href=\"http://twitter.com/download/android\" ...  ['positive']  \n",
       "5  <a href=\"http://twitter.com\" rel=\"nofollow\">Tw...  ['positive']  \n",
       "6  <a href=\"http://twitter.com/download/android\" ...  ['positive']  \n",
       "7  <a href=\"http://itunes.apple.com/us/app/twitte...   ['neutral']  \n",
       "8  <a href=\"http://twitter.com\" rel=\"nofollow\">Tw...  ['positive']  \n",
       "9  <a href=\"http://twitter.com\" rel=\"nofollow\">Tw...  ['positive']  "
      ]
     },
     "execution_count": 6,
     "metadata": {},
     "output_type": "execute_result"
    }
   ],
   "source": [
    "sentiBitcoin.head(10)"
   ]
  },
  {
   "cell_type": "markdown",
   "id": "c656932e",
   "metadata": {},
   "source": [
    "### Dropping coulmns not needed"
   ]
  },
  {
   "cell_type": "code",
   "execution_count": 7,
   "id": "c761e6ee",
   "metadata": {},
   "outputs": [
    {
     "data": {
      "text/html": [
       "<div>\n",
       "<style scoped>\n",
       "    .dataframe tbody tr th:only-of-type {\n",
       "        vertical-align: middle;\n",
       "    }\n",
       "\n",
       "    .dataframe tbody tr th {\n",
       "        vertical-align: top;\n",
       "    }\n",
       "\n",
       "    .dataframe thead th {\n",
       "        text-align: right;\n",
       "    }\n",
       "</style>\n",
       "<table border=\"1\" class=\"dataframe\">\n",
       "  <thead>\n",
       "    <tr style=\"text-align: right;\">\n",
       "      <th></th>\n",
       "      <th>Tweet</th>\n",
       "      <th>Sentiment</th>\n",
       "    </tr>\n",
       "  </thead>\n",
       "  <tbody>\n",
       "    <tr>\n",
       "      <th>0</th>\n",
       "      <td>RT @ALXTOKEN: Paul Krugman, Nobel Luddite. I h...</td>\n",
       "      <td>['neutral']</td>\n",
       "    </tr>\n",
       "    <tr>\n",
       "      <th>1</th>\n",
       "      <td>@lopp @_Kevin_Pham @psycho_sage @naval But @Pr...</td>\n",
       "      <td>['neutral']</td>\n",
       "    </tr>\n",
       "    <tr>\n",
       "      <th>2</th>\n",
       "      <td>RT @tippereconomy: Another use case for #block...</td>\n",
       "      <td>['positive']</td>\n",
       "    </tr>\n",
       "    <tr>\n",
       "      <th>3</th>\n",
       "      <td>free coins https://t.co/DiuoePJdap</td>\n",
       "      <td>['positive']</td>\n",
       "    </tr>\n",
       "    <tr>\n",
       "      <th>4</th>\n",
       "      <td>RT @payvxofficial: WE are happy to announce th...</td>\n",
       "      <td>['positive']</td>\n",
       "    </tr>\n",
       "    <tr>\n",
       "      <th>...</th>\n",
       "      <td>...</td>\n",
       "      <td>...</td>\n",
       "    </tr>\n",
       "    <tr>\n",
       "      <th>50882</th>\n",
       "      <td>RT @fixy_app: Fixy Network brings popular cryp...</td>\n",
       "      <td>['positive']</td>\n",
       "    </tr>\n",
       "    <tr>\n",
       "      <th>50883</th>\n",
       "      <td>RT @bethereumteam: After a successful launch o...</td>\n",
       "      <td>['positive']</td>\n",
       "    </tr>\n",
       "    <tr>\n",
       "      <th>50884</th>\n",
       "      <td>RT @GymRewards: Buy #GYMRewards Tokens, Bonus ...</td>\n",
       "      <td>['neutral']</td>\n",
       "    </tr>\n",
       "    <tr>\n",
       "      <th>50885</th>\n",
       "      <td>I added a video to a @YouTube playlist https:/...</td>\n",
       "      <td>['positive']</td>\n",
       "    </tr>\n",
       "    <tr>\n",
       "      <th>50886</th>\n",
       "      <td>RT @Raybambs: Airdrop PhotoCoin Airdrop Round#...</td>\n",
       "      <td>['positive']</td>\n",
       "    </tr>\n",
       "  </tbody>\n",
       "</table>\n",
       "<p>50887 rows × 2 columns</p>\n",
       "</div>"
      ],
      "text/plain": [
       "                                                   Tweet     Sentiment\n",
       "0      RT @ALXTOKEN: Paul Krugman, Nobel Luddite. I h...   ['neutral']\n",
       "1      @lopp @_Kevin_Pham @psycho_sage @naval But @Pr...   ['neutral']\n",
       "2      RT @tippereconomy: Another use case for #block...  ['positive']\n",
       "3                     free coins https://t.co/DiuoePJdap  ['positive']\n",
       "4      RT @payvxofficial: WE are happy to announce th...  ['positive']\n",
       "...                                                  ...           ...\n",
       "50882  RT @fixy_app: Fixy Network brings popular cryp...  ['positive']\n",
       "50883  RT @bethereumteam: After a successful launch o...  ['positive']\n",
       "50884  RT @GymRewards: Buy #GYMRewards Tokens, Bonus ...   ['neutral']\n",
       "50885  I added a video to a @YouTube playlist https:/...  ['positive']\n",
       "50886  RT @Raybambs: Airdrop PhotoCoin Airdrop Round#...  ['positive']\n",
       "\n",
       "[50887 rows x 2 columns]"
      ]
     },
     "execution_count": 7,
     "metadata": {},
     "output_type": "execute_result"
    }
   ],
   "source": [
    "sentiBitcoin = sentiBitcoin.drop([\"column_#\", \"Date\" , \"Screen_name\" , \"Source\", \"Link\"], axis=1)\n",
    "sentiBitcoin"
   ]
  },
  {
   "cell_type": "markdown",
   "id": "23807c68",
   "metadata": {},
   "source": [
    "Expolring the catergories  "
   ]
  },
  {
   "cell_type": "code",
   "execution_count": 8,
   "id": "4dff3756",
   "metadata": {
    "scrolled": false
   },
   "outputs": [
    {
     "data": {
      "text/plain": [
       "<AxesSubplot:xlabel='Sentiment', ylabel='count'>"
      ]
     },
     "execution_count": 8,
     "metadata": {},
     "output_type": "execute_result"
    },
    {
     "data": {
      "image/png": "[encoded data removed]",
      "text/plain": [
       "<Figure size 640x480 with 1 Axes>"
      ]
     },
     "metadata": {},
     "output_type": "display_data"
    }
   ],
   "source": [
    "import seaborn as sns\n",
    "sns.countplot(x= sentiBitcoin[\"Sentiment\"])"
   ]
  },
  {
   "cell_type": "code",
   "execution_count": 9,
   "id": "4c5356be",
   "metadata": {},
   "outputs": [
    {
     "data": {
      "text/plain": [
       "['positive']    22937\n",
       "['neutral']     21932\n",
       "['negative']     5983\n",
       "0                   7\n",
       "Name: Sentiment, dtype: int64"
      ]
     },
     "execution_count": 9,
     "metadata": {},
     "output_type": "execute_result"
    }
   ],
   "source": [
    "sentiBitcoin['Sentiment'].value_counts()"
   ]
  },
  {
   "cell_type": "markdown",
   "id": "6006928d",
   "metadata": {},
   "source": [
    "- Data has 3 categories and there is a huge discrapency making the dataset imbalanced\n",
    "- There is also a category that is un labaelled thet is of no interest and constitutes a small percentage \n",
    "- The sentiment is in text form hence the need to convert to int\n"
   ]
  },
  {
   "cell_type": "code",
   "execution_count": 10,
   "id": "849ec082",
   "metadata": {},
   "outputs": [],
   "source": [
    "# dropping the zero values \n",
    "sentiBitcoin.drop(sentiBitcoin[sentiBitcoin['Sentiment'] == '0'].index, inplace = True)"
   ]
  },
  {
   "cell_type": "code",
   "execution_count": 11,
   "id": "008a16e4",
   "metadata": {},
   "outputs": [
    {
     "data": {
      "text/plain": [
       "Tweet        21\n",
       "Sentiment    28\n",
       "dtype: int64"
      ]
     },
     "execution_count": 11,
     "metadata": {},
     "output_type": "execute_result"
    }
   ],
   "source": [
    "# checking for nulls\n",
    "sentiBitcoin.isnull().sum()"
   ]
  },
  {
   "cell_type": "code",
   "execution_count": 12,
   "id": "8b38b60f",
   "metadata": {},
   "outputs": [
    {
     "data": {
      "text/plain": [
       "Tweet        0\n",
       "Sentiment    0\n",
       "dtype: int64"
      ]
     },
     "execution_count": 12,
     "metadata": {},
     "output_type": "execute_result"
    }
   ],
   "source": [
    "sentiBitcoin = sentiBitcoin.dropna()\n",
    "sentiBitcoin.isnull().sum()"
   ]
  },
  {
   "cell_type": "code",
   "execution_count": 13,
   "id": "34e3497f",
   "metadata": {},
   "outputs": [
    {
     "data": {
      "text/plain": [
       "['positive']    22937\n",
       "['neutral']     21932\n",
       "['negative']     5983\n",
       "Name: Sentiment, dtype: int64"
      ]
     },
     "execution_count": 13,
     "metadata": {},
     "output_type": "execute_result"
    }
   ],
   "source": [
    "sentiBitcoin['Sentiment'].value_counts()\n",
    "# removed zero values "
   ]
  },
  {
   "cell_type": "code",
   "execution_count": 14,
   "id": "0f49a205",
   "metadata": {},
   "outputs": [],
   "source": [
    "# solving the class imbalances \n",
    "from sklearn.utils import resample"
   ]
  },
  {
   "cell_type": "code",
   "execution_count": 15,
   "id": "0f85f91b",
   "metadata": {},
   "outputs": [
    {
     "name": "stderr",
     "output_type": "stream",
     "text": [
      "C:\\Users\\BIDA19-025\\AppData\\Local\\Temp\\ipykernel_26708\\1931971246.py:1: SettingWithCopyWarning: \n",
      "A value is trying to be set on a copy of a slice from a DataFrame.\n",
      "Try using .loc[row_indexer,col_indexer] = value instead\n",
      "\n",
      "See the caveats in the documentation: https://pandas.pydata.org/pandas-docs/stable/user_guide/indexing.html#returning-a-view-versus-a-copy\n",
      "  sentiBitcoin['Sentiment'] = sentiBitcoin['Sentiment'].replace([\"['positive']\", \"['neutral']\", \"['negative']\"], [1, 0, -1])\n"
     ]
    },
    {
     "data": {
      "text/plain": [
       " 1    22937\n",
       " 0    21932\n",
       "-1     5983\n",
       "Name: Sentiment, dtype: int64"
      ]
     },
     "execution_count": 15,
     "metadata": {},
     "output_type": "execute_result"
    }
   ],
   "source": [
    "sentiBitcoin['Sentiment'] = sentiBitcoin['Sentiment'].replace([\"['positive']\", \"['neutral']\", \"['negative']\"], [1, 0, -1])\n",
    "sentiBitcoin['Sentiment'].value_counts()"
   ]
  },
  {
   "cell_type": "markdown",
   "id": "fa750dac",
   "metadata": {},
   "source": [
    "### Balancing the dataset"
   ]
  },
  {
   "cell_type": "code",
   "execution_count": 16,
   "id": "ddc40051",
   "metadata": {},
   "outputs": [],
   "source": [
    "# https://elitedatascience.com/imbalanced-classes  refernce for code \n",
    "\n",
    "df_majority = sentiBitcoin[sentiBitcoin['Sentiment'] == 1.0]  \n",
    "df_majority1 = sentiBitcoin[sentiBitcoin['Sentiment'] == 0.0] \n",
    "df_minority = sentiBitcoin[sentiBitcoin['Sentiment'] == -1.0] "
   ]
  },
  {
   "cell_type": "code",
   "execution_count": 17,
   "id": "93433020",
   "metadata": {},
   "outputs": [],
   "source": [
    "downsampledPositive = resample(df_majority, \n",
    "                            replace=False,   \n",
    "                            n_samples= 5983,     \n",
    "                            random_state=123) \n",
    "\n"
   ]
  },
  {
   "cell_type": "code",
   "execution_count": 18,
   "id": "659aec30",
   "metadata": {},
   "outputs": [],
   "source": [
    "downsampledNeutral = resample(df_majority1, \n",
    "                            replace=False,   \n",
    "                            n_samples= 5983,     \n",
    "                            random_state=123) \n"
   ]
  },
  {
   "cell_type": "code",
   "execution_count": 19,
   "id": "c7449c75",
   "metadata": {},
   "outputs": [],
   "source": [
    "balancedSentiment  = pd.concat([downsampledPositive , df_minority ,  downsampledNeutral])"
   ]
  },
  {
   "cell_type": "code",
   "execution_count": 20,
   "id": "28fffd50",
   "metadata": {},
   "outputs": [
    {
     "data": {
      "text/html": [
       "<div>\n",
       "<style scoped>\n",
       "    .dataframe tbody tr th:only-of-type {\n",
       "        vertical-align: middle;\n",
       "    }\n",
       "\n",
       "    .dataframe tbody tr th {\n",
       "        vertical-align: top;\n",
       "    }\n",
       "\n",
       "    .dataframe thead th {\n",
       "        text-align: right;\n",
       "    }\n",
       "</style>\n",
       "<table border=\"1\" class=\"dataframe\">\n",
       "  <thead>\n",
       "    <tr style=\"text-align: right;\">\n",
       "      <th></th>\n",
       "      <th>Tweet</th>\n",
       "      <th>Sentiment</th>\n",
       "    </tr>\n",
       "  </thead>\n",
       "  <tbody>\n",
       "    <tr>\n",
       "      <th>15511</th>\n",
       "      <td>@grockrecords2 Bitcoin -Gold (BTG) do  become ...</td>\n",
       "      <td>1</td>\n",
       "    </tr>\n",
       "    <tr>\n",
       "      <th>26220</th>\n",
       "      <td>RT @Incapsula_com: As prices spike, the bitcoi...</td>\n",
       "      <td>1</td>\n",
       "    </tr>\n",
       "    <tr>\n",
       "      <th>12563</th>\n",
       "      <td>New post (Dutch Court Finds Bitcoin A Legitima...</td>\n",
       "      <td>1</td>\n",
       "    </tr>\n",
       "    <tr>\n",
       "      <th>49394</th>\n",
       "      <td>RT @bethereumteam: We have just hit 10K within...</td>\n",
       "      <td>1</td>\n",
       "    </tr>\n",
       "    <tr>\n",
       "      <th>280</th>\n",
       "      <td>RT @unicornhub_au: @zilliqa Here is my submiss...</td>\n",
       "      <td>1</td>\n",
       "    </tr>\n",
       "  </tbody>\n",
       "</table>\n",
       "</div>"
      ],
      "text/plain": [
       "                                                   Tweet  Sentiment\n",
       "15511  @grockrecords2 Bitcoin -Gold (BTG) do  become ...          1\n",
       "26220  RT @Incapsula_com: As prices spike, the bitcoi...          1\n",
       "12563  New post (Dutch Court Finds Bitcoin A Legitima...          1\n",
       "49394  RT @bethereumteam: We have just hit 10K within...          1\n",
       "280    RT @unicornhub_au: @zilliqa Here is my submiss...          1"
      ]
     },
     "execution_count": 20,
     "metadata": {},
     "output_type": "execute_result"
    }
   ],
   "source": [
    "balancedSentiment.head()"
   ]
  },
  {
   "cell_type": "code",
   "execution_count": 21,
   "id": "37db7689",
   "metadata": {},
   "outputs": [
    {
     "data": {
      "text/plain": [
       " 1    5983\n",
       "-1    5983\n",
       " 0    5983\n",
       "Name: Sentiment, dtype: int64"
      ]
     },
     "execution_count": 21,
     "metadata": {},
     "output_type": "execute_result"
    },
    {
     "data": {
      "image/png": "[encoded data removed]",
      "text/plain": [
       "<Figure size 640x480 with 1 Axes>"
      ]
     },
     "metadata": {},
     "output_type": "display_data"
    }
   ],
   "source": [
    "sns.countplot(x= balancedSentiment[\"Sentiment\"])\n",
    "balancedSentiment['Sentiment'].value_counts()"
   ]
  },
  {
   "cell_type": "markdown",
   "id": "6a67165c",
   "metadata": {},
   "source": [
    "- data set has been balanced using simple donwn sampling the code was sourced from https://elitedatascience.com/imbalanced-classes"
   ]
  },
  {
   "cell_type": "code",
   "execution_count": 22,
   "id": "5875335c",
   "metadata": {},
   "outputs": [],
   "source": [
    "import nltk\n",
    "from nltk.tokenize import word_tokenize\n",
    "from nltk.stem import WordNetLemmatizer\n",
    "from nltk.corpus import stopwords\n",
    "from nltk.corpus import PlaintextCorpusReader\n",
    "import re    \n",
    "from nltk.stem.porter import *"
   ]
  },
  {
   "cell_type": "code",
   "execution_count": 23,
   "id": "4f680b7c",
   "metadata": {},
   "outputs": [
    {
     "name": "stdout",
     "output_type": "stream",
     "text": [
      "Earn 500 Ramen with airdrop program: https://t.co/gMu9lnCwMO  \n",
      "#RamenCoin $RAMEN #airdrop #bounty #ICO #ethereum… https://t.co/6lL6vYmbLS\n"
     ]
    }
   ],
   "source": [
    "example = balancedSentiment['Tweet'][50]\n",
    "print(example)"
   ]
  },
  {
   "cell_type": "markdown",
   "id": "c47a5c05",
   "metadata": {},
   "source": [
    "Cleaning text form the Dataset"
   ]
  },
  {
   "cell_type": "code",
   "execution_count": 24,
   "id": "aa83688f",
   "metadata": {},
   "outputs": [],
   "source": [
    "# stack overflow remove urls  https://stackoverflow.com/questions/2081168/python-nameerror\n",
    "balancedSentiment['Tweet'] = balancedSentiment['Tweet'].replace(r'http\\S+', '', regex=True).replace(r'www\\S+', '', regex=True).replace(r'https\\S+', '', regex=True)\n",
    "    "
   ]
  },
  {
   "cell_type": "code",
   "execution_count": 25,
   "id": "ea6f24af",
   "metadata": {
    "scrolled": true
   },
   "outputs": [
    {
     "name": "stderr",
     "output_type": "stream",
     "text": [
      "C:\\Users\\BIDA19-025\\AppData\\Local\\Temp\\ipykernel_26708\\184000899.py:2: FutureWarning: The default value of regex will change from True to False in a future version.\n",
      "  balancedSentiment['Tweet']=balancedSentiment['Tweet'].str.replace('[^\\w\\s]', '')\n"
     ]
    }
   ],
   "source": [
    "# stack over flow to remove special cahrecters \n",
    "balancedSentiment['Tweet']=balancedSentiment['Tweet'].str.replace('[^\\w\\s]', '')"
   ]
  },
  {
   "cell_type": "code",
   "execution_count": 26,
   "id": "fef65bac",
   "metadata": {},
   "outputs": [],
   "source": [
    "balancedSentiment['Tweet']=balancedSentiment['Tweet'].str.lower()"
   ]
  },
  {
   "cell_type": "code",
   "execution_count": 27,
   "id": "d1d731ce",
   "metadata": {},
   "outputs": [],
   "source": [
    "balancedSentiment['Tweet']= balancedSentiment['Tweet'].replace('rt', '', regex=True)"
   ]
  },
  {
   "cell_type": "code",
   "execution_count": 28,
   "id": "660c2500",
   "metadata": {},
   "outputs": [
    {
     "data": {
      "text/html": [
       "<div>\n",
       "<style scoped>\n",
       "    .dataframe tbody tr th:only-of-type {\n",
       "        vertical-align: middle;\n",
       "    }\n",
       "\n",
       "    .dataframe tbody tr th {\n",
       "        vertical-align: top;\n",
       "    }\n",
       "\n",
       "    .dataframe thead th {\n",
       "        text-align: right;\n",
       "    }\n",
       "</style>\n",
       "<table border=\"1\" class=\"dataframe\">\n",
       "  <thead>\n",
       "    <tr style=\"text-align: right;\">\n",
       "      <th></th>\n",
       "      <th>Tweet</th>\n",
       "      <th>Sentiment</th>\n",
       "    </tr>\n",
       "  </thead>\n",
       "  <tbody>\n",
       "    <tr>\n",
       "      <th>15511</th>\n",
       "      <td>grockrecords2 bitcoin gold btg do  become popu...</td>\n",
       "      <td>1</td>\n",
       "    </tr>\n",
       "    <tr>\n",
       "      <th>26220</th>\n",
       "      <td>incapsula_com as prices spike the bitcoin ind...</td>\n",
       "      <td>1</td>\n",
       "    </tr>\n",
       "    <tr>\n",
       "      <th>12563</th>\n",
       "      <td>new post dutch cou finds bitcoin a legitimate ...</td>\n",
       "      <td>1</td>\n",
       "    </tr>\n",
       "    <tr>\n",
       "      <th>49394</th>\n",
       "      <td>bethereumteam we have just hit 10k within 48 ...</td>\n",
       "      <td>1</td>\n",
       "    </tr>\n",
       "    <tr>\n",
       "      <th>280</th>\n",
       "      <td>unicornhub_au zilliqa here is my submission f...</td>\n",
       "      <td>1</td>\n",
       "    </tr>\n",
       "  </tbody>\n",
       "</table>\n",
       "</div>"
      ],
      "text/plain": [
       "                                                   Tweet  Sentiment\n",
       "15511  grockrecords2 bitcoin gold btg do  become popu...          1\n",
       "26220   incapsula_com as prices spike the bitcoin ind...          1\n",
       "12563  new post dutch cou finds bitcoin a legitimate ...          1\n",
       "49394   bethereumteam we have just hit 10k within 48 ...          1\n",
       "280     unicornhub_au zilliqa here is my submission f...          1"
      ]
     },
     "execution_count": 28,
     "metadata": {},
     "output_type": "execute_result"
    }
   ],
   "source": [
    "balancedSentiment.head()"
   ]
  },
  {
   "cell_type": "markdown",
   "id": "f3038ceb",
   "metadata": {},
   "source": [
    "### Training different models for sentiment Classification"
   ]
  },
  {
   "cell_type": "markdown",
   "id": "a4f20b10",
   "metadata": {},
   "source": [
    "### Training on LSTM"
   ]
  },
  {
   "cell_type": "code",
   "execution_count": 37,
   "id": "e8c5205b",
   "metadata": {},
   "outputs": [],
   "source": [
    "from tensorflow.keras.preprocessing.text import Tokenizer\n",
    "from tensorflow.keras.preprocessing.sequence import pad_sequences "
   ]
  },
  {
   "cell_type": "code",
   "execution_count": 38,
   "id": "5c179ad8",
   "metadata": {},
   "outputs": [],
   "source": [
    "from sklearn.model_selection import train_test_split\n",
    "#train test splits \n",
    "x_train, x_test, y_train, y_test = train_test_split(balancedSentiment['Tweet'].values, balancedSentiment['Sentiment'].values, test_size=0.30)"
   ]
  },
  {
   "cell_type": "code",
   "execution_count": 39,
   "id": "1b0a6585",
   "metadata": {},
   "outputs": [],
   "source": [
    "maxVocab = 16000\n",
    "tokenizer = Tokenizer(num_words=maxVocab)\n",
    "tokenizer.fit_on_texts(x_train)"
   ]
  },
  {
   "cell_type": "code",
   "execution_count": 40,
   "id": "228b1e28",
   "metadata": {},
   "outputs": [
    {
     "name": "stdout",
     "output_type": "stream",
     "text": [
      "datset len 14971\n"
     ]
    }
   ],
   "source": [
    "# checking the word index and find out the vocabulary of the dataset\n",
    "wordidx = tokenizer.word_index\n",
    "V = len(wordidx)\n",
    "print(\"datset length\", V)"
   ]
  },
  {
   "cell_type": "code",
   "execution_count": 41,
   "id": "2d61e867",
   "metadata": {},
   "outputs": [],
   "source": [
    "vocab_size = 14767\n",
    "embd_len = 4\n",
    "max_words = 40"
   ]
  },
  {
   "cell_type": "code",
   "execution_count": 42,
   "id": "bd763d43",
   "metadata": {},
   "outputs": [
    {
     "name": "stdout",
     "output_type": "stream",
     "text": [
      "Training sequence:  [644, 596, 691, 714, 28, 5, 86, 2271, 52, 79, 410, 42, 45, 122, 3, 73, 21, 2454, 214, 255, 75, 692]\n",
      "Testing sequence:  [1, 148, 4830, 1, 1357, 17, 279, 14136, 148, 1, 67, 122, 279, 3374, 148, 23, 20, 68]\n"
     ]
    }
   ],
   "source": [
    "train_seq = tokenizer.texts_to_sequences(x_train)\n",
    "test_seq = tokenizer.texts_to_sequences(x_test)\n",
    "print('Training sequence: ', train_seq[0])\n",
    "print('Testing sequence: ', test_seq[0])"
   ]
  },
  {
   "cell_type": "code",
   "execution_count": 43,
   "id": "96ecb548",
   "metadata": {},
   "outputs": [
    {
     "name": "stdout",
     "output_type": "stream",
     "text": [
      "The length of training sequence is:  30\n"
     ]
    }
   ],
   "source": [
    "pad_train = pad_sequences(train_seq)\n",
    "T = pad_train.shape[1]\n",
    "print('The length of training sequence is: ', T)\n"
   ]
  },
  {
   "cell_type": "code",
   "execution_count": 44,
   "id": "ca0b7cc4",
   "metadata": {},
   "outputs": [
    {
     "name": "stdout",
     "output_type": "stream",
     "text": [
      "The length of testing sequence is:  30\n"
     ]
    }
   ],
   "source": [
    "# padding the test sequence\n",
    "pad_test = pad_sequences(test_seq, maxlen=T)\n",
    "print('The length of testing sequence is: ', pad_test.shape[1])"
   ]
  },
  {
   "cell_type": "code",
   "execution_count": 45,
   "id": "60bfdb33",
   "metadata": {},
   "outputs": [],
   "source": [
    "from tensorflow.keras.models import Sequential\n",
    "from tensorflow.keras.layers import Input, Dense, Embedding, LSTM, GlobalMaxPooling1D\n",
    "from tensorflow.keras.models import Model"
   ]
  },
  {
   "cell_type": "code",
   "execution_count": 52,
   "id": "97ef360d",
   "metadata": {},
   "outputs": [],
   "source": [
    "#defining neural network layer \n",
    "D = 50\n",
    "M = 30\n",
    "\n",
    "i = Input(shape=(T, ))   \n",
    "x= Embedding(V+1, D)(i) g \n",
    "x = LSTM(M, return_sequences=True)(x)\n",
    "x = GlobalMaxPooling1D()(x)\n",
    "x = Dense(64,activation='relu')(x) #32\n",
    "x = Dense(1,activation='sigmoid')(x) \n",
    "\n",
    "model = Model(i,x)"
   ]
  },
  {
   "cell_type": "code",
   "execution_count": 53,
   "id": "4884a021",
   "metadata": {},
   "outputs": [],
   "source": [
    "model.compile(optimizer='adam', \n",
    "              loss='binary_crossentropy', \n",
    "              metrics=['accuracy'])"
   ]
  },
  {
   "cell_type": "code",
   "execution_count": 54,
   "id": "7f1cb415",
   "metadata": {},
   "outputs": [
    {
     "name": "stdout",
     "output_type": "stream",
     "text": [
      "Model: \"model_1\"\n",
      "_________________________________________________________________\n",
      " Layer (type)                Output Shape              Param #   \n",
      "=================================================================\n",
      " input_2 (InputLayer)        [(None, 30)]              0         \n",
      "                                                                 \n",
      " embedding_1 (Embedding)     (None, 30, 50)            748600    \n",
      "                                                                 \n",
      " lstm_1 (LSTM)               (None, 30, 30)            9720      \n",
      "                                                                 \n",
      " global_max_pooling1d_1 (Glo  (None, 30)               0         \n",
      " balMaxPooling1D)                                                \n",
      "                                                                 \n",
      " dense_2 (Dense)             (None, 64)                1984      \n",
      "                                                                 \n",
      " dense_3 (Dense)             (None, 1)                 65        \n",
      "                                                                 \n",
      "=================================================================\n",
      "Total params: 760,369\n",
      "Trainable params: 760,369\n",
      "Non-trainable params: 0\n",
      "_________________________________________________________________\n",
      "None\n"
     ]
    }
   ],
   "source": [
    "print(model.summary())"
   ]
  },
  {
   "cell_type": "code",
   "execution_count": 55,
   "id": "63fbabfb",
   "metadata": {},
   "outputs": [
    {
     "name": "stdout",
     "output_type": "stream",
     "text": [
      "Epoch 1/20\n",
      "393/393 [==============================] - 25s 42ms/step - loss: -16.2273 - accuracy: 0.4386 - val_loss: -64.9579 - val_accuracy: 0.5432\n",
      "Epoch 2/20\n",
      "393/393 [==============================] - 16s 40ms/step - loss: -202.4198 - accuracy: 0.5694 - val_loss: -379.9734 - val_accuracy: 0.5183\n",
      "Epoch 3/20\n",
      "393/393 [==============================] - 16s 40ms/step - loss: -652.6437 - accuracy: 0.6051 - val_loss: -910.9266 - val_accuracy: 0.5868\n",
      "Epoch 4/20\n",
      "393/393 [==============================] - 16s 41ms/step - loss: -1281.6893 - accuracy: 0.6303 - val_loss: -1554.9928 - val_accuracy: 0.5851\n",
      "Epoch 5/20\n",
      "393/393 [==============================] - 15s 37ms/step - loss: -2023.5758 - accuracy: 0.6367 - val_loss: -2308.6187 - val_accuracy: 0.5846\n",
      "Epoch 6/20\n",
      "393/393 [==============================] - 15s 37ms/step - loss: -2900.9519 - accuracy: 0.6381 - val_loss: -3168.5684 - val_accuracy: 0.5968\n",
      "Epoch 7/20\n",
      "393/393 [==============================] - 19s 48ms/step - loss: -3896.0042 - accuracy: 0.6507 - val_loss: -4170.6104 - val_accuracy: 0.5967\n",
      "Epoch 8/20\n",
      "393/393 [==============================] - 24s 60ms/step - loss: -4996.0742 - accuracy: 0.6543 - val_loss: -5187.9868 - val_accuracy: 0.5855\n",
      "Epoch 9/20\n",
      "393/393 [==============================] - 20s 52ms/step - loss: -6196.8779 - accuracy: 0.6587 - val_loss: -6329.2412 - val_accuracy: 0.5924\n",
      "Epoch 10/20\n",
      "393/393 [==============================] - 19s 47ms/step - loss: -7453.4683 - accuracy: 0.6497 - val_loss: -7612.3462 - val_accuracy: 0.5974\n",
      "Epoch 11/20\n",
      "393/393 [==============================] - 20s 50ms/step - loss: -8844.8535 - accuracy: 0.6546 - val_loss: -8479.3467 - val_accuracy: 0.5536\n",
      "Epoch 12/20\n",
      "393/393 [==============================] - 23s 59ms/step - loss: -10324.7861 - accuracy: 0.6553 - val_loss: -10322.6152 - val_accuracy: 0.5967\n",
      "Epoch 13/20\n",
      "393/393 [==============================] - 18s 46ms/step - loss: -11877.6074 - accuracy: 0.6564 - val_loss: -11834.3877 - val_accuracy: 0.5924\n",
      "Epoch 14/20\n",
      "393/393 [==============================] - 32s 81ms/step - loss: -13637.1211 - accuracy: 0.6580 - val_loss: -13438.5801 - val_accuracy: 0.5955\n",
      "Epoch 15/20\n",
      "393/393 [==============================] - 21s 55ms/step - loss: -15400.5859 - accuracy: 0.6582 - val_loss: -15152.3994 - val_accuracy: 0.5926\n",
      "Epoch 16/20\n",
      "393/393 [==============================] - 20s 51ms/step - loss: -17314.8496 - accuracy: 0.6605 - val_loss: -16817.5371 - val_accuracy: 0.5907\n",
      "Epoch 17/20\n",
      "393/393 [==============================] - 25s 63ms/step - loss: -19264.2207 - accuracy: 0.6617 - val_loss: -18669.8066 - val_accuracy: 0.5909\n",
      "Epoch 18/20\n",
      "393/393 [==============================] - 21s 54ms/step - loss: -21275.7852 - accuracy: 0.6561 - val_loss: -20444.3281 - val_accuracy: 0.5842\n",
      "Epoch 19/20\n",
      "393/393 [==============================] - 23s 58ms/step - loss: -23487.7734 - accuracy: 0.6614 - val_loss: -22691.7168 - val_accuracy: 0.5946\n",
      "Epoch 20/20\n",
      "393/393 [==============================] - 19s 48ms/step - loss: -25753.9160 - accuracy: 0.6638 - val_loss: -24706.2832 - val_accuracy: 0.5944\n"
     ]
    },
    {
     "data": {
      "text/plain": [
       "<keras.callbacks.History at 0x2274b0d8b80>"
      ]
     },
     "execution_count": 55,
     "metadata": {},
     "output_type": "execute_result"
    }
   ],
   "source": [
    "model.fit(pad_train, y_train, validation_data=(pad_test, y_test), epochs=20)"
   ]
  },
  {
   "cell_type": "code",
   "execution_count": 56,
   "id": "c6bb3d4f",
   "metadata": {},
   "outputs": [
    {
     "name": "stdout",
     "output_type": "stream",
     "text": [
      "169/169 [==============================] - 2s 10ms/step - loss: -24706.2832 - accuracy: 0.5944\n"
     ]
    },
    {
     "data": {
      "text/plain": [
       "[-24706.283203125, 0.5944289565086365]"
      ]
     },
     "execution_count": 56,
     "metadata": {},
     "output_type": "execute_result"
    }
   ],
   "source": [
    "results = model.evaluate(pad_test, y_test)\n",
    "results"
   ]
  },
  {
   "cell_type": "markdown",
   "id": "cdc43544",
   "metadata": {},
   "source": [
    "## Training on Naive Bayes "
   ]
  },
  {
   "cell_type": "markdown",
   "id": "cffa7041",
   "metadata": {},
   "source": [
    "### Different pre procesing for classification algorithm"
   ]
  },
  {
   "cell_type": "code",
   "execution_count": 58,
   "id": "a22ee292",
   "metadata": {},
   "outputs": [],
   "source": [
    "from sklearn.feature_extraction.text import CountVectorizer"
   ]
  },
  {
   "cell_type": "code",
   "execution_count": 59,
   "id": "15d9cc8e",
   "metadata": {},
   "outputs": [],
   "source": [
    "# Split into training and testing data using differet method \n",
    "x = balancedSentiment['Tweet']\n",
    "y = balancedSentiment['Sentiment']\n",
    "x, x_test, y, y_test = train_test_split(x,y, stratify=y, test_size=0.30, random_state=50)"
   ]
  },
  {
   "cell_type": "code",
   "execution_count": 60,
   "id": "b2a55f46",
   "metadata": {},
   "outputs": [],
   "source": [
    "# Vectorize text reviews to numbers\n",
    "vec = CountVectorizer(stop_words='english')\n",
    "x = vec.fit_transform(x).toarray()\n",
    "x_test = vec.transform(x_test).toarray()"
   ]
  },
  {
   "cell_type": "code",
   "execution_count": 61,
   "id": "57f87f0c",
   "metadata": {},
   "outputs": [
    {
     "data": {
      "text/html": [
       "<style>#sk-container-id-1 {color: black;background-color: white;}#sk-container-id-1 pre{padding: 0;}#sk-container-id-1 div.sk-toggleable {background-color: white;}#sk-container-id-1 label.sk-toggleable__label {cursor: pointer;display: block;width: 100%;margin-bottom: 0;padding: 0.3em;box-sizing: border-box;text-align: center;}#sk-container-id-1 label.sk-toggleable__label-arrow:before {content: \"▸\";float: left;margin-right: 0.25em;color: #696969;}#sk-container-id-1 label.sk-toggleable__label-arrow:hover:before {color: black;}#sk-container-id-1 div.sk-estimator:hover label.sk-toggleable__label-arrow:before {color: black;}#sk-container-id-1 div.sk-toggleable__content {max-height: 0;max-width: 0;overflow: hidden;text-align: left;background-color: #f0f8ff;}#sk-container-id-1 div.sk-toggleable__content pre {margin: 0.2em;color: black;border-radius: 0.25em;background-color: #f0f8ff;}#sk-container-id-1 input.sk-toggleable__control:checked~div.sk-toggleable__content {max-height: 200px;max-width: 100%;overflow: auto;}#sk-container-id-1 input.sk-toggleable__control:checked~label.sk-toggleable__label-arrow:before {content: \"▾\";}#sk-container-id-1 div.sk-estimator input.sk-toggleable__control:checked~label.sk-toggleable__label {background-color: #d4ebff;}#sk-container-id-1 div.sk-label input.sk-toggleable__control:checked~label.sk-toggleable__label {background-color: #d4ebff;}#sk-container-id-1 input.sk-hidden--visually {border: 0;clip: rect(1px 1px 1px 1px);clip: rect(1px, 1px, 1px, 1px);height: 1px;margin: -1px;overflow: hidden;padding: 0;position: absolute;width: 1px;}#sk-container-id-1 div.sk-estimator {font-family: monospace;background-color: #f0f8ff;border: 1px dotted black;border-radius: 0.25em;box-sizing: border-box;margin-bottom: 0.5em;}#sk-container-id-1 div.sk-estimator:hover {background-color: #d4ebff;}#sk-container-id-1 div.sk-parallel-item::after {content: \"\";width: 100%;border-bottom: 1px solid gray;flex-grow: 1;}#sk-container-id-1 div.sk-label:hover label.sk-toggleable__label {background-color: #d4ebff;}#sk-container-id-1 div.sk-serial::before {content: \"\";position: absolute;border-left: 1px solid gray;box-sizing: border-box;top: 0;bottom: 0;left: 50%;z-index: 0;}#sk-container-id-1 div.sk-serial {display: flex;flex-direction: column;align-items: center;background-color: white;padding-right: 0.2em;padding-left: 0.2em;position: relative;}#sk-container-id-1 div.sk-item {position: relative;z-index: 1;}#sk-container-id-1 div.sk-parallel {display: flex;align-items: stretch;justify-content: center;background-color: white;position: relative;}#sk-container-id-1 div.sk-item::before, #sk-container-id-1 div.sk-parallel-item::before {content: \"\";position: absolute;border-left: 1px solid gray;box-sizing: border-box;top: 0;bottom: 0;left: 50%;z-index: -1;}#sk-container-id-1 div.sk-parallel-item {display: flex;flex-direction: column;z-index: 1;position: relative;background-color: white;}#sk-container-id-1 div.sk-parallel-item:first-child::after {align-self: flex-end;width: 50%;}#sk-container-id-1 div.sk-parallel-item:last-child::after {align-self: flex-start;width: 50%;}#sk-container-id-1 div.sk-parallel-item:only-child::after {width: 0;}#sk-container-id-1 div.sk-dashed-wrapped {border: 1px dashed gray;margin: 0 0.4em 0.5em 0.4em;box-sizing: border-box;padding-bottom: 0.4em;background-color: white;}#sk-container-id-1 div.sk-label label {font-family: monospace;font-weight: bold;display: inline-block;line-height: 1.2em;}#sk-container-id-1 div.sk-label-container {text-align: center;}#sk-container-id-1 div.sk-container {/* jupyter's `normalize.less` sets `[hidden] { display: none; }` but bootstrap.min.css set `[hidden] { display: none !important; }` so we also need the `!important` here to be able to override the default hidden behavior on the sphinx rendered scikit-learn.org. See: https://github.com/scikit-learn/scikit-learn/issues/21755 */display: inline-block !important;position: relative;}#sk-container-id-1 div.sk-text-repr-fallback {display: none;}</style><div id=\"sk-container-id-1\" class=\"sk-top-container\"><div class=\"sk-text-repr-fallback\"><pre>MultinomialNB()</pre><b>In a Jupyter environment, please rerun this cell to show the HTML representation or trust the notebook. <br />On GitHub, the HTML representation is unable to render, please try loading this page with nbviewer.org.</b></div><div class=\"sk-container\" hidden><div class=\"sk-item\"><div class=\"sk-estimator sk-toggleable\"><input class=\"sk-toggleable__control sk-hidden--visually\" id=\"sk-estimator-id-1\" type=\"checkbox\" checked><label for=\"sk-estimator-id-1\" class=\"sk-toggleable__label sk-toggleable__label-arrow\">MultinomialNB</label><div class=\"sk-toggleable__content\"><pre>MultinomialNB()</pre></div></div></div></div></div>"
      ],
      "text/plain": [
       "MultinomialNB()"
      ]
     },
     "execution_count": 61,
     "metadata": {},
     "output_type": "execute_result"
    }
   ],
   "source": [
    "from sklearn.naive_bayes import MultinomialNB\n",
    "\n",
    "model2 = MultinomialNB()\n",
    "\n",
    "model2.fit(x, y)"
   ]
  },
  {
   "cell_type": "code",
   "execution_count": 62,
   "id": "3dcaab9c",
   "metadata": {},
   "outputs": [
    {
     "data": {
      "text/plain": [
       "0.8506963788300835"
      ]
     },
     "execution_count": 62,
     "metadata": {},
     "output_type": "execute_result"
    }
   ],
   "source": [
    "model2.score(x_test, y_test)"
   ]
  },
  {
   "cell_type": "code",
   "execution_count": 63,
   "id": "175ae8bb",
   "metadata": {},
   "outputs": [
    {
     "data": {
      "text/plain": [
       "array([1], dtype=int64)"
      ]
     },
     "execution_count": 63,
     "metadata": {},
     "output_type": "execute_result"
    }
   ],
   "source": [
    "model2.predict(vec.transform(['Bitcoin is awesome!']))"
   ]
  },
  {
   "cell_type": "code",
   "execution_count": 86,
   "id": "1e7f1500",
   "metadata": {},
   "outputs": [
    {
     "data": {
      "text/plain": [
       "array([1], dtype=int64)"
      ]
     },
     "execution_count": 86,
     "metadata": {},
     "output_type": "execute_result"
    }
   ],
   "source": [
    "model2.predict(vec.transform([' ether is good coin  ']))"
   ]
  },
  {
   "cell_type": "code",
   "execution_count": 65,
   "id": "4485a55c",
   "metadata": {},
   "outputs": [],
   "source": [
    "predictions = model2.predict(x_test)"
   ]
  },
  {
   "cell_type": "code",
   "execution_count": 66,
   "id": "100158da",
   "metadata": {},
   "outputs": [
    {
     "name": "stdout",
     "output_type": "stream",
     "text": [
      "[[1483  181  131]\n",
      " [  93 1512  190]\n",
      " [  67  142 1586]]\n",
      "              precision    recall  f1-score   support\n",
      "\n",
      "          -1       0.90      0.83      0.86      1795\n",
      "           0       0.82      0.84      0.83      1795\n",
      "           1       0.83      0.88      0.86      1795\n",
      "\n",
      "    accuracy                           0.85      5385\n",
      "   macro avg       0.85      0.85      0.85      5385\n",
      "weighted avg       0.85      0.85      0.85      5385\n",
      "\n",
      "0.8506963788300835\n"
     ]
    }
   ],
   "source": [
    "from sklearn.metrics import classification_report, confusion_matrix, accuracy_score\n",
    "\n",
    "print(confusion_matrix(y_test,predictions))\n",
    "print(classification_report(y_test,predictions))\n",
    "print(accuracy_score(y_test, predictions))"
   ]
  },
  {
   "cell_type": "markdown",
   "id": "ea45ed35",
   "metadata": {},
   "source": [
    "### Training On Random Forest \n"
   ]
  },
  {
   "cell_type": "code",
   "execution_count": 68,
   "id": "bb7670e0",
   "metadata": {},
   "outputs": [],
   "source": [
    "xRF = balancedSentiment['Tweet']\n",
    "yRF = balancedSentiment['Sentiment']\n",
    "xRF, x_testRF, yRF, y_testRF = train_test_split(xRF,yRF, stratify=yRF, test_size=0.30, random_state=50)"
   ]
  },
  {
   "cell_type": "code",
   "execution_count": 69,
   "id": "318c7022",
   "metadata": {},
   "outputs": [],
   "source": [
    "vec = CountVectorizer(stop_words='english')\n",
    "xRF = vec.fit_transform(xRF).toarray()\n",
    "x_testRF = vec.transform(x_testRF).toarray()"
   ]
  },
  {
   "cell_type": "code",
   "execution_count": 87,
   "id": "5f6b1f66",
   "metadata": {},
   "outputs": [],
   "source": [
    "pickle.dump(vec, open(\"vector.pickel\", \"wb\"))"
   ]
  },
  {
   "cell_type": "code",
   "execution_count": 70,
   "id": "eb7b49c7",
   "metadata": {},
   "outputs": [
    {
     "data": {
      "text/html": [
       "<style>#sk-container-id-2 {color: black;background-color: white;}#sk-container-id-2 pre{padding: 0;}#sk-container-id-2 div.sk-toggleable {background-color: white;}#sk-container-id-2 label.sk-toggleable__label {cursor: pointer;display: block;width: 100%;margin-bottom: 0;padding: 0.3em;box-sizing: border-box;text-align: center;}#sk-container-id-2 label.sk-toggleable__label-arrow:before {content: \"▸\";float: left;margin-right: 0.25em;color: #696969;}#sk-container-id-2 label.sk-toggleable__label-arrow:hover:before {color: black;}#sk-container-id-2 div.sk-estimator:hover label.sk-toggleable__label-arrow:before {color: black;}#sk-container-id-2 div.sk-toggleable__content {max-height: 0;max-width: 0;overflow: hidden;text-align: left;background-color: #f0f8ff;}#sk-container-id-2 div.sk-toggleable__content pre {margin: 0.2em;color: black;border-radius: 0.25em;background-color: #f0f8ff;}#sk-container-id-2 input.sk-toggleable__control:checked~div.sk-toggleable__content {max-height: 200px;max-width: 100%;overflow: auto;}#sk-container-id-2 input.sk-toggleable__control:checked~label.sk-toggleable__label-arrow:before {content: \"▾\";}#sk-container-id-2 div.sk-estimator input.sk-toggleable__control:checked~label.sk-toggleable__label {background-color: #d4ebff;}#sk-container-id-2 div.sk-label input.sk-toggleable__control:checked~label.sk-toggleable__label {background-color: #d4ebff;}#sk-container-id-2 input.sk-hidden--visually {border: 0;clip: rect(1px 1px 1px 1px);clip: rect(1px, 1px, 1px, 1px);height: 1px;margin: -1px;overflow: hidden;padding: 0;position: absolute;width: 1px;}#sk-container-id-2 div.sk-estimator {font-family: monospace;background-color: #f0f8ff;border: 1px dotted black;border-radius: 0.25em;box-sizing: border-box;margin-bottom: 0.5em;}#sk-container-id-2 div.sk-estimator:hover {background-color: #d4ebff;}#sk-container-id-2 div.sk-parallel-item::after {content: \"\";width: 100%;border-bottom: 1px solid gray;flex-grow: 1;}#sk-container-id-2 div.sk-label:hover label.sk-toggleable__label {background-color: #d4ebff;}#sk-container-id-2 div.sk-serial::before {content: \"\";position: absolute;border-left: 1px solid gray;box-sizing: border-box;top: 0;bottom: 0;left: 50%;z-index: 0;}#sk-container-id-2 div.sk-serial {display: flex;flex-direction: column;align-items: center;background-color: white;padding-right: 0.2em;padding-left: 0.2em;position: relative;}#sk-container-id-2 div.sk-item {position: relative;z-index: 1;}#sk-container-id-2 div.sk-parallel {display: flex;align-items: stretch;justify-content: center;background-color: white;position: relative;}#sk-container-id-2 div.sk-item::before, #sk-container-id-2 div.sk-parallel-item::before {content: \"\";position: absolute;border-left: 1px solid gray;box-sizing: border-box;top: 0;bottom: 0;left: 50%;z-index: -1;}#sk-container-id-2 div.sk-parallel-item {display: flex;flex-direction: column;z-index: 1;position: relative;background-color: white;}#sk-container-id-2 div.sk-parallel-item:first-child::after {align-self: flex-end;width: 50%;}#sk-container-id-2 div.sk-parallel-item:last-child::after {align-self: flex-start;width: 50%;}#sk-container-id-2 div.sk-parallel-item:only-child::after {width: 0;}#sk-container-id-2 div.sk-dashed-wrapped {border: 1px dashed gray;margin: 0 0.4em 0.5em 0.4em;box-sizing: border-box;padding-bottom: 0.4em;background-color: white;}#sk-container-id-2 div.sk-label label {font-family: monospace;font-weight: bold;display: inline-block;line-height: 1.2em;}#sk-container-id-2 div.sk-label-container {text-align: center;}#sk-container-id-2 div.sk-container {/* jupyter's `normalize.less` sets `[hidden] { display: none; }` but bootstrap.min.css set `[hidden] { display: none !important; }` so we also need the `!important` here to be able to override the default hidden behavior on the sphinx rendered scikit-learn.org. See: https://github.com/scikit-learn/scikit-learn/issues/21755 */display: inline-block !important;position: relative;}#sk-container-id-2 div.sk-text-repr-fallback {display: none;}</style><div id=\"sk-container-id-2\" class=\"sk-top-container\"><div class=\"sk-text-repr-fallback\"><pre>RandomForestClassifier(n_estimators=200, random_state=0)</pre><b>In a Jupyter environment, please rerun this cell to show the HTML representation or trust the notebook. <br />On GitHub, the HTML representation is unable to render, please try loading this page with nbviewer.org.</b></div><div class=\"sk-container\" hidden><div class=\"sk-item\"><div class=\"sk-estimator sk-toggleable\"><input class=\"sk-toggleable__control sk-hidden--visually\" id=\"sk-estimator-id-2\" type=\"checkbox\" checked><label for=\"sk-estimator-id-2\" class=\"sk-toggleable__label sk-toggleable__label-arrow\">RandomForestClassifier</label><div class=\"sk-toggleable__content\"><pre>RandomForestClassifier(n_estimators=200, random_state=0)</pre></div></div></div></div></div>"
      ],
      "text/plain": [
       "RandomForestClassifier(n_estimators=200, random_state=0)"
      ]
     },
     "execution_count": 70,
     "metadata": {},
     "output_type": "execute_result"
    }
   ],
   "source": [
    "from sklearn.ensemble import RandomForestClassifier\n",
    "\n",
    "text_classifier = RandomForestClassifier(n_estimators=200, random_state=0)\n",
    "text_classifier.fit(xRF, yRF)"
   ]
  },
  {
   "cell_type": "code",
   "execution_count": 71,
   "id": "36e4e706",
   "metadata": {},
   "outputs": [],
   "source": [
    "predictionsRF = text_classifier.predict(x_testRF)"
   ]
  },
  {
   "cell_type": "code",
   "execution_count": 72,
   "id": "12b30f46",
   "metadata": {},
   "outputs": [
    {
     "name": "stdout",
     "output_type": "stream",
     "text": [
      "[[1582  174   39]\n",
      " [  15 1765   15]\n",
      " [  14  183 1598]]\n",
      "              precision    recall  f1-score   support\n",
      "\n",
      "          -1       0.98      0.88      0.93      1795\n",
      "           0       0.83      0.98      0.90      1795\n",
      "           1       0.97      0.89      0.93      1795\n",
      "\n",
      "    accuracy                           0.92      5385\n",
      "   macro avg       0.93      0.92      0.92      5385\n",
      "weighted avg       0.93      0.92      0.92      5385\n",
      "\n",
      "0.9182915506035283\n"
     ]
    }
   ],
   "source": [
    "print(confusion_matrix(y_testRF,predictionsRF))\n",
    "print(classification_report(y_testRF,predictionsRF))\n",
    "print(accuracy_score(y_testRF, predictionsRF))"
   ]
  },
  {
   "cell_type": "code",
   "execution_count": 74,
   "id": "653a808a",
   "metadata": {},
   "outputs": [],
   "source": [
    "f = open('RFSenti.pickle', 'wb')\n",
    "pickle.dump(model2, f)\n",
    "f.close()"
   ]
  },
  {
   "cell_type": "code",
   "execution_count": 75,
   "id": "bd3bb478",
   "metadata": {},
   "outputs": [
    {
     "data": {
      "text/plain": [
       "array([-1], dtype=int64)"
      ]
     },
     "execution_count": 75,
     "metadata": {},
     "output_type": "execute_result"
    }
   ],
   "source": [
    "text_classifier.predict(vec.transform([' ramencoin2018 the official ramencoin2018 twitter airdrop round 1 is livereceive 500 ramen for completing the tasks ']))"
   ]
  },
  {
   "cell_type": "code",
   "execution_count": 76,
   "id": "a5732e7e",
   "metadata": {},
   "outputs": [
    {
     "data": {
      "text/plain": [
       "array([0], dtype=int64)"
      ]
     },
     "execution_count": 76,
     "metadata": {},
     "output_type": "execute_result"
    }
   ],
   "source": [
    "text_classifier.predict(vec.transform(['Bitcoin is falling in price ']))"
   ]
  },
  {
   "cell_type": "code",
   "execution_count": 80,
   "id": "b8b93e9f",
   "metadata": {},
   "outputs": [
    {
     "data": {
      "text/plain": [
       "['./random_forest.joblib']"
      ]
     },
     "execution_count": 80,
     "metadata": {},
     "output_type": "execute_result"
    }
   ],
   "source": [
    "\n",
    "joblib.dump(text_classifier, \"./random_forest.joblib\")"
   ]
  }
 ],
 "metadata": {
  "kernelspec": {
   "display_name": "Python 3 (ipykernel)",
   "language": "python",
   "name": "python3"
  },
  "language_info": {
   "codemirror_mode": {
    "name": "ipython",
    "version": 3
   },
   "file_extension": ".py",
   "mimetype": "text/x-python",
   "name": "python",
   "nbconvert_exporter": "python",
   "pygments_lexer": "ipython3",
   "version": "3.11.4"
  }
 },
 "nbformat": 4,
 "nbformat_minor": 5
}
